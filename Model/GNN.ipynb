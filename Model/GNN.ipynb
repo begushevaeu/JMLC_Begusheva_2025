{
 "cells": [
  {
   "cell_type": "code",
   "execution_count": 7,
   "id": "48fa1fad",
   "metadata": {},
   "outputs": [],
   "source": [
    "from pathlib import Path\n",
    "import pandas as pd \n",
    "\n",
    "path = Path(\"../Baseline\") / \"df_baseline.csv\"\n",
    "df_baseline = pd.read_csv(path)"
   ]
  },
  {
   "cell_type": "code",
   "execution_count": 9,
   "id": "cfde24c2",
   "metadata": {},
   "outputs": [
    {
     "ename": "NameError",
     "evalue": "name '_C' is not defined",
     "output_type": "error",
     "traceback": [
      "\u001b[31m---------------------------------------------------------------------------\u001b[39m",
      "\u001b[31mNameError\u001b[39m                                 Traceback (most recent call last)",
      "\u001b[36mCell\u001b[39m\u001b[36m \u001b[39m\u001b[32mIn[9]\u001b[39m\u001b[32m, line 1\u001b[39m\n\u001b[32m----> \u001b[39m\u001b[32m1\u001b[39m \u001b[38;5;28;01mfrom\u001b[39;00m\u001b[38;5;250m \u001b[39m\u001b[34;01mgnn_model\u001b[39;00m\u001b[38;5;250m \u001b[39m\u001b[38;5;28;01mimport\u001b[39;00m prepare_graph_data, train_and_eval_model\n\u001b[32m      3\u001b[39m data = prepare_graph_data(df_baseline)\n\u001b[32m      4\u001b[39m f1_gnn, auc_gnn = train_and_eval_model(data, epochs=\u001b[32m100\u001b[39m, patience=\u001b[32m5\u001b[39m)\n",
      "\u001b[36mFile \u001b[39m\u001b[32mc:\\Users\\ostro\\Documents\\my_first_data_project\\Model\\gnn_model.py:1\u001b[39m\n\u001b[32m----> \u001b[39m\u001b[32m1\u001b[39m \u001b[38;5;28;01mimport\u001b[39;00m\u001b[38;5;250m \u001b[39m\u001b[34;01mtorch\u001b[39;00m\n\u001b[32m      2\u001b[39m \u001b[38;5;28;01mimport\u001b[39;00m\u001b[38;5;250m \u001b[39m\u001b[34;01mtorch\u001b[39;00m\u001b[34;01m.\u001b[39;00m\u001b[34;01mnn\u001b[39;00m\u001b[34;01m.\u001b[39;00m\u001b[34;01mfunctional\u001b[39;00m\u001b[38;5;250m \u001b[39m\u001b[38;5;28;01mas\u001b[39;00m\u001b[38;5;250m \u001b[39m\u001b[34;01mF\u001b[39;00m\n\u001b[32m      3\u001b[39m \u001b[38;5;28;01mimport\u001b[39;00m\u001b[38;5;250m \u001b[39m\u001b[34;01mpandas\u001b[39;00m\u001b[38;5;250m \u001b[39m\u001b[38;5;28;01mas\u001b[39;00m\u001b[38;5;250m \u001b[39m\u001b[34;01mpd\u001b[39;00m\n",
      "\u001b[36mFile \u001b[39m\u001b[32mc:\\Users\\ostro\\Documents\\my_first_data_project\\venv\\Lib\\site-packages\\torch\\__init__.py:457\u001b[39m\n\u001b[32m    443\u001b[39m         \u001b[38;5;28;01mraise\u001b[39;00m \u001b[38;5;167;01mImportError\u001b[39;00m(textwrap.dedent(\u001b[33m'''\u001b[39m\n\u001b[32m    444\u001b[39m \u001b[33m            Failed to load PyTorch C extensions:\u001b[39m\n\u001b[32m    445\u001b[39m \u001b[33m                It appears that PyTorch has loaded the `torch/_C` folder\u001b[39m\n\u001b[32m   (...)\u001b[39m\u001b[32m    453\u001b[39m \u001b[33m                or by running Python from a different directory.\u001b[39m\n\u001b[32m    454\u001b[39m \u001b[33m            \u001b[39m\u001b[33m'''\u001b[39m).strip()) \u001b[38;5;28;01mfrom\u001b[39;00m\u001b[38;5;250m \u001b[39m\u001b[38;5;28;01mNone\u001b[39;00m\n\u001b[32m    455\u001b[39m     \u001b[38;5;28;01mraise\u001b[39;00m  \u001b[38;5;66;03m# If __file__ is not None the cause is unknown, so just re-raise.\u001b[39;00m\n\u001b[32m--> \u001b[39m\u001b[32m457\u001b[39m \u001b[38;5;28;01mfor\u001b[39;00m name \u001b[38;5;129;01min\u001b[39;00m \u001b[38;5;28mdir\u001b[39m(\u001b[43m_C\u001b[49m):\n\u001b[32m    458\u001b[39m     \u001b[38;5;28;01mif\u001b[39;00m name[\u001b[32m0\u001b[39m] != \u001b[33m'\u001b[39m\u001b[33m_\u001b[39m\u001b[33m'\u001b[39m \u001b[38;5;129;01mand\u001b[39;00m \u001b[38;5;129;01mnot\u001b[39;00m name.endswith(\u001b[33m'\u001b[39m\u001b[33mBase\u001b[39m\u001b[33m'\u001b[39m):\n\u001b[32m    459\u001b[39m         __all__.append(name)\n",
      "\u001b[31mNameError\u001b[39m: name '_C' is not defined"
     ]
    }
   ],
   "source": [
    "from gnn_model import prepare_graph_data, train_and_eval_model\n",
    "\n",
    "data = prepare_graph_data(df_baseline)\n",
    "f1_gnn, auc_gnn = train_and_eval_model(data, epochs=100, patience=5)"
   ]
  },
  {
   "cell_type": "code",
   "execution_count": 12,
   "id": "d970bdc9",
   "metadata": {},
   "outputs": [
    {
     "ename": "NameError",
     "evalue": "name '_C' is not defined",
     "output_type": "error",
     "traceback": [
      "\u001b[31m---------------------------------------------------------------------------\u001b[39m",
      "\u001b[31mNameError\u001b[39m                                 Traceback (most recent call last)",
      "\u001b[36mCell\u001b[39m\u001b[36m \u001b[39m\u001b[32mIn[12]\u001b[39m\u001b[32m, line 1\u001b[39m\n\u001b[32m----> \u001b[39m\u001b[32m1\u001b[39m \u001b[38;5;28;01mimport\u001b[39;00m\u001b[38;5;250m \u001b[39m\u001b[34;01mtorch\u001b[39;00m\n\u001b[32m      3\u001b[39m \u001b[38;5;28mprint\u001b[39m(\u001b[33m\"\u001b[39m\u001b[33mВерсия PyTorch:\u001b[39m\u001b[33m\"\u001b[39m, torch.__version__)\n\u001b[32m      4\u001b[39m \u001b[38;5;28mprint\u001b[39m(\u001b[33m\"\u001b[39m\u001b[33mДоступен ли CUDA:\u001b[39m\u001b[33m\"\u001b[39m, torch.cuda.is_available())\n",
      "\u001b[36mFile \u001b[39m\u001b[32mc:\\Users\\ostro\\Documents\\my_first_data_project\\venv\\Lib\\site-packages\\torch\\__init__.py:533\u001b[39m\n\u001b[32m    519\u001b[39m         \u001b[38;5;28;01mraise\u001b[39;00m \u001b[38;5;167;01mImportError\u001b[39;00m(textwrap.dedent(\u001b[33m'''\u001b[39m\n\u001b[32m    520\u001b[39m \u001b[33m            Failed to load PyTorch C extensions:\u001b[39m\n\u001b[32m    521\u001b[39m \u001b[33m                It appears that PyTorch has loaded the `torch/_C` folder\u001b[39m\n\u001b[32m   (...)\u001b[39m\u001b[32m    529\u001b[39m \u001b[33m                or by running Python from a different directory.\u001b[39m\n\u001b[32m    530\u001b[39m \u001b[33m            \u001b[39m\u001b[33m'''\u001b[39m).strip()) \u001b[38;5;28;01mfrom\u001b[39;00m\u001b[38;5;250m \u001b[39m\u001b[38;5;28;01mNone\u001b[39;00m\n\u001b[32m    531\u001b[39m     \u001b[38;5;28;01mraise\u001b[39;00m  \u001b[38;5;66;03m# If __file__ is not None the cause is unknown, so just re-raise.\u001b[39;00m\n\u001b[32m--> \u001b[39m\u001b[32m533\u001b[39m \u001b[38;5;28;01mfor\u001b[39;00m name \u001b[38;5;129;01min\u001b[39;00m \u001b[38;5;28mdir\u001b[39m(\u001b[43m_C\u001b[49m):\n\u001b[32m    534\u001b[39m     \u001b[38;5;28;01mif\u001b[39;00m name[\u001b[32m0\u001b[39m] != \u001b[33m'\u001b[39m\u001b[33m_\u001b[39m\u001b[33m'\u001b[39m \u001b[38;5;129;01mand\u001b[39;00m \u001b[38;5;129;01mnot\u001b[39;00m name.endswith(\u001b[33m'\u001b[39m\u001b[33mBase\u001b[39m\u001b[33m'\u001b[39m):\n\u001b[32m    535\u001b[39m         __all__.append(name)\n",
      "\u001b[31mNameError\u001b[39m: name '_C' is not defined"
     ]
    }
   ],
   "source": [
    "import torch\n",
    "\n",
    "print(\"Версия PyTorch:\", torch.__version__)\n",
    "print(\"Доступен ли CUDA:\", torch.cuda.is_available())\n",
    "\n",
    "if torch.cuda.is_available():\n",
    "    print(\"Используется GPU:\", torch.cuda.get_device_name(0))\n",
    "else:\n",
    "    print(\"Используется CPU\")"
   ]
  }
 ],
 "metadata": {
  "kernelspec": {
   "display_name": "venv",
   "language": "python",
   "name": "python3"
  },
  "language_info": {
   "codemirror_mode": {
    "name": "ipython",
    "version": 3
   },
   "file_extension": ".py",
   "mimetype": "text/x-python",
   "name": "python",
   "nbconvert_exporter": "python",
   "pygments_lexer": "ipython3",
   "version": "3.11.9"
  }
 },
 "nbformat": 4,
 "nbformat_minor": 5
}
