{
 "cells": [
  {
   "cell_type": "code",
   "execution_count": 2,
   "id": "48fa1fad",
   "metadata": {},
   "outputs": [],
   "source": [
    "from pathlib import Path\n",
    "import pandas as pd \n",
    "\n",
    "path = Path(\"../Baseline\") / \"df_baseline.csv\"\n",
    "df_baseline = pd.read_csv(path)"
   ]
  },
  {
   "cell_type": "code",
   "execution_count": 5,
   "id": "a4caad09",
   "metadata": {},
   "outputs": [
    {
     "data": {
      "text/plain": [
       "(9504852, 16)"
      ]
     },
     "execution_count": 5,
     "metadata": {},
     "output_type": "execute_result"
    }
   ],
   "source": [
    "df_baseline.shape"
   ]
  },
  {
   "cell_type": "code",
   "execution_count": null,
   "id": "cfde24c2",
   "metadata": {},
   "outputs": [
    {
     "name": "stderr",
     "output_type": "stream",
     "text": [
      "                                                            \r"
     ]
    }
   ],
   "source": [
    "from gnn_model import prepare_graph_data, train_and_eval_model\n",
    "\n",
    "data = prepare_graph_data(df_baseline)\n",
    "f1_gnn, auc_gnn = train_and_eval_model(data, epochs=100, patience=5)"
   ]
  }
 ],
 "metadata": {
  "kernelspec": {
   "display_name": ".venv",
   "language": "python",
   "name": "python3"
  },
  "language_info": {
   "codemirror_mode": {
    "name": "ipython",
    "version": 3
   },
   "file_extension": ".py",
   "mimetype": "text/x-python",
   "name": "python",
   "nbconvert_exporter": "python",
   "pygments_lexer": "ipython3",
   "version": "3.11.9"
  }
 },
 "nbformat": 4,
 "nbformat_minor": 5
}
