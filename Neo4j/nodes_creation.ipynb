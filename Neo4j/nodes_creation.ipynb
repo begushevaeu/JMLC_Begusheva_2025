{
 "cells": [
  {
   "cell_type": "code",
   "execution_count": 1,
   "id": "7f934334",
   "metadata": {},
   "outputs": [],
   "source": [
    "from pathlib import Path\n",
    "import pandas as pd \n",
    "\n",
    "path = Path(\"../Baseline\") / \"df_baseline.csv\"\n",
    "df_baseline = pd.read_csv(path)"
   ]
  },
  {
   "cell_type": "markdown",
   "id": "617f0e63",
   "metadata": {},
   "source": [
    "nodes - узлы (аккаунты + география)"
   ]
  },
  {
   "cell_type": "code",
   "execution_count": 3,
   "id": "1bb6e00a",
   "metadata": {},
   "outputs": [],
   "source": [
    "# Группируем по аккаунту и берём первую локацию\n",
    "sender_locations = (\n",
    "    df_baseline[['Sender_account', 'Sender_bank_location']]\n",
    "    .dropna()\n",
    "    .groupby('Sender_account')\n",
    "    .agg(lambda x: x.value_counts().index[0])  # наиболее частая локация\n",
    ")\n",
    "\n",
    "receiver_locations = (\n",
    "    df_baseline[['Receiver_account', 'Receiver_bank_location']]\n",
    "    .dropna()\n",
    "    .groupby('Receiver_account')\n",
    "    .agg(lambda x: x.value_counts().index[0])\n",
    ")\n",
    "\n",
    "# Создаём таблицу узлов\n",
    "all_accounts = pd.unique(df_baseline[['Sender_account', 'Receiver_account']].values.ravel())\n",
    "df_nodes = pd.DataFrame({'id': all_accounts})\n",
    "\n",
    "# Маппим локации\n",
    "df_nodes['location'] = df_nodes['id'].map(sender_locations['Sender_bank_location'])\n",
    "df_nodes['location'] = df_nodes['location'].fillna(df_nodes['id'].map(receiver_locations['Receiver_bank_location']))\n",
    "\n",
    "# Сохраняем в CSV\n",
    "df_nodes.to_csv('nodes.csv', index=False)\n"
   ]
  },
  {
   "cell_type": "markdown",
   "id": "d936be7f",
   "metadata": {},
   "source": [
    "edges - ребра (характеристики транзакций)"
   ]
  },
  {
   "cell_type": "code",
   "execution_count": null,
   "id": "1b3d9542",
   "metadata": {},
   "outputs": [],
   "source": [
    "df_edges = df_baseline[[\n",
    "    'Sender_account', 'Receiver_account', 'Amount', \n",
    "    'Payment_type', 'Is_laundering', 'month', 'weekday', 'hour', \n",
    "    'Payment_currency_iso', 'Received_currency_iso'\n",
    "]].copy()\n",
    "\n",
    "# Переименуем столбцы, чтобы соответствовать Cypher\n",
    "df_edges.rename(columns={\n",
    "    'Sender_account': 'sender',\n",
    "    'Receiver_account': 'receiver',\n",
    "    'Payment_type': 'payment_type',\n",
    "    'Is_laundering': 'suspicious',\n",
    "    'Payment_currency_iso': 'payment_currency',\n",
    "    'Received_currency_iso': 'received_currency'\n",
    "}, inplace=True)\n",
    "\n",
    "# Преобразуем флаг подозрительности в строку ('true'/'false') — для Neo4j\n",
    "df_edges['suspicious'] = df_edges['suspicious'].astype(bool).astype(str).str.lower()\n",
    "\n",
    "# Сохраняем\n",
    "df_edges.to_csv('edges.csv', index=False)"
   ]
  }
 ],
 "metadata": {
  "kernelspec": {
   "display_name": "venv",
   "language": "python",
   "name": "python3"
  },
  "language_info": {
   "codemirror_mode": {
    "name": "ipython",
    "version": 3
   },
   "file_extension": ".py",
   "mimetype": "text/x-python",
   "name": "python",
   "nbconvert_exporter": "python",
   "pygments_lexer": "ipython3",
   "version": "3.11.9"
  }
 },
 "nbformat": 4,
 "nbformat_minor": 5
}
