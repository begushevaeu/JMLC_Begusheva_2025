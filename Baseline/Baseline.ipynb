{
 "cells": [
  {
   "cell_type": "code",
   "execution_count": 1,
   "id": "cd855753",
   "metadata": {},
   "outputs": [],
   "source": [
    "from pathlib import Path\n",
    "import pandas as pd \n",
    "\n",
    "path = Path(\"../Baseline\") / \"df_baseline.csv\"\n",
    "df_baseline = pd.read_csv(path)"
   ]
  },
  {
   "cell_type": "code",
   "execution_count": 2,
   "id": "a253621f",
   "metadata": {},
   "outputs": [
    {
     "data": {
      "application/vnd.microsoft.datawrangler.viewer.v0+json": {
       "columns": [
        {
         "name": "index",
         "rawType": "int64",
         "type": "integer"
        },
        {
         "name": "Time",
         "rawType": "object",
         "type": "string"
        },
        {
         "name": "Date",
         "rawType": "object",
         "type": "string"
        },
        {
         "name": "Sender_account",
         "rawType": "int64",
         "type": "integer"
        },
        {
         "name": "Receiver_account",
         "rawType": "int64",
         "type": "integer"
        },
        {
         "name": "Amount",
         "rawType": "float64",
         "type": "float"
        },
        {
         "name": "Sender_bank_location",
         "rawType": "object",
         "type": "string"
        },
        {
         "name": "Receiver_bank_location",
         "rawType": "object",
         "type": "string"
        },
        {
         "name": "Payment_type",
         "rawType": "object",
         "type": "string"
        },
        {
         "name": "Is_laundering",
         "rawType": "int64",
         "type": "integer"
        },
        {
         "name": "Laundering_type",
         "rawType": "object",
         "type": "string"
        },
        {
         "name": "year",
         "rawType": "int64",
         "type": "integer"
        },
        {
         "name": "month",
         "rawType": "int64",
         "type": "integer"
        },
        {
         "name": "weekday",
         "rawType": "int64",
         "type": "integer"
        },
        {
         "name": "hour",
         "rawType": "int64",
         "type": "integer"
        },
        {
         "name": "Payment_currency_iso",
         "rawType": "object",
         "type": "string"
        },
        {
         "name": "Received_currency_iso",
         "rawType": "object",
         "type": "string"
        }
       ],
       "ref": "29b45189-f46a-4f05-a43a-c070ab77af9d",
       "rows": [
        [
         "0",
         "10:35:19",
         "2022-10-07",
         "8724731955",
         "2769355426",
         "1459.15",
         "UK",
         "UK",
         "Cash Deposit",
         "0",
         "Normal_Cash_Deposits",
         "2022",
         "10",
         "5",
         "10",
         "GBP",
         "GBP"
        ],
        [
         "1",
         "10:35:20",
         "2022-10-07",
         "1491989064",
         "8401255335",
         "6019.64",
         "UK",
         "UAE",
         "Cross-border",
         "0",
         "Normal_Fan_Out",
         "2022",
         "10",
         "5",
         "10",
         "GBP",
         "AED"
        ],
        [
         "2",
         "10:35:20",
         "2022-10-07",
         "287305149",
         "4404767002",
         "14328.44",
         "UK",
         "UK",
         "Cheque",
         "0",
         "Normal_Small_Fan_Out",
         "2022",
         "10",
         "5",
         "10",
         "GBP",
         "GBP"
        ],
        [
         "3",
         "10:35:21",
         "2022-10-07",
         "5376652437",
         "9600420220",
         "11895.0",
         "UK",
         "UK",
         "ACH",
         "0",
         "Normal_Fan_In",
         "2022",
         "10",
         "5",
         "10",
         "GBP",
         "GBP"
        ],
        [
         "4",
         "10:35:21",
         "2022-10-07",
         "9614186178",
         "3803336972",
         "115.25",
         "UK",
         "UK",
         "Cash Deposit",
         "0",
         "Normal_Cash_Deposits",
         "2022",
         "10",
         "5",
         "10",
         "GBP",
         "GBP"
        ]
       ],
       "shape": {
        "columns": 16,
        "rows": 5
       }
      },
      "text/html": [
       "<div>\n",
       "<style scoped>\n",
       "    .dataframe tbody tr th:only-of-type {\n",
       "        vertical-align: middle;\n",
       "    }\n",
       "\n",
       "    .dataframe tbody tr th {\n",
       "        vertical-align: top;\n",
       "    }\n",
       "\n",
       "    .dataframe thead th {\n",
       "        text-align: right;\n",
       "    }\n",
       "</style>\n",
       "<table border=\"1\" class=\"dataframe\">\n",
       "  <thead>\n",
       "    <tr style=\"text-align: right;\">\n",
       "      <th></th>\n",
       "      <th>Time</th>\n",
       "      <th>Date</th>\n",
       "      <th>Sender_account</th>\n",
       "      <th>Receiver_account</th>\n",
       "      <th>Amount</th>\n",
       "      <th>Sender_bank_location</th>\n",
       "      <th>Receiver_bank_location</th>\n",
       "      <th>Payment_type</th>\n",
       "      <th>Is_laundering</th>\n",
       "      <th>Laundering_type</th>\n",
       "      <th>year</th>\n",
       "      <th>month</th>\n",
       "      <th>weekday</th>\n",
       "      <th>hour</th>\n",
       "      <th>Payment_currency_iso</th>\n",
       "      <th>Received_currency_iso</th>\n",
       "    </tr>\n",
       "  </thead>\n",
       "  <tbody>\n",
       "    <tr>\n",
       "      <th>0</th>\n",
       "      <td>10:35:19</td>\n",
       "      <td>2022-10-07</td>\n",
       "      <td>8724731955</td>\n",
       "      <td>2769355426</td>\n",
       "      <td>1459.15</td>\n",
       "      <td>UK</td>\n",
       "      <td>UK</td>\n",
       "      <td>Cash Deposit</td>\n",
       "      <td>0</td>\n",
       "      <td>Normal_Cash_Deposits</td>\n",
       "      <td>2022</td>\n",
       "      <td>10</td>\n",
       "      <td>5</td>\n",
       "      <td>10</td>\n",
       "      <td>GBP</td>\n",
       "      <td>GBP</td>\n",
       "    </tr>\n",
       "    <tr>\n",
       "      <th>1</th>\n",
       "      <td>10:35:20</td>\n",
       "      <td>2022-10-07</td>\n",
       "      <td>1491989064</td>\n",
       "      <td>8401255335</td>\n",
       "      <td>6019.64</td>\n",
       "      <td>UK</td>\n",
       "      <td>UAE</td>\n",
       "      <td>Cross-border</td>\n",
       "      <td>0</td>\n",
       "      <td>Normal_Fan_Out</td>\n",
       "      <td>2022</td>\n",
       "      <td>10</td>\n",
       "      <td>5</td>\n",
       "      <td>10</td>\n",
       "      <td>GBP</td>\n",
       "      <td>AED</td>\n",
       "    </tr>\n",
       "    <tr>\n",
       "      <th>2</th>\n",
       "      <td>10:35:20</td>\n",
       "      <td>2022-10-07</td>\n",
       "      <td>287305149</td>\n",
       "      <td>4404767002</td>\n",
       "      <td>14328.44</td>\n",
       "      <td>UK</td>\n",
       "      <td>UK</td>\n",
       "      <td>Cheque</td>\n",
       "      <td>0</td>\n",
       "      <td>Normal_Small_Fan_Out</td>\n",
       "      <td>2022</td>\n",
       "      <td>10</td>\n",
       "      <td>5</td>\n",
       "      <td>10</td>\n",
       "      <td>GBP</td>\n",
       "      <td>GBP</td>\n",
       "    </tr>\n",
       "    <tr>\n",
       "      <th>3</th>\n",
       "      <td>10:35:21</td>\n",
       "      <td>2022-10-07</td>\n",
       "      <td>5376652437</td>\n",
       "      <td>9600420220</td>\n",
       "      <td>11895.00</td>\n",
       "      <td>UK</td>\n",
       "      <td>UK</td>\n",
       "      <td>ACH</td>\n",
       "      <td>0</td>\n",
       "      <td>Normal_Fan_In</td>\n",
       "      <td>2022</td>\n",
       "      <td>10</td>\n",
       "      <td>5</td>\n",
       "      <td>10</td>\n",
       "      <td>GBP</td>\n",
       "      <td>GBP</td>\n",
       "    </tr>\n",
       "    <tr>\n",
       "      <th>4</th>\n",
       "      <td>10:35:21</td>\n",
       "      <td>2022-10-07</td>\n",
       "      <td>9614186178</td>\n",
       "      <td>3803336972</td>\n",
       "      <td>115.25</td>\n",
       "      <td>UK</td>\n",
       "      <td>UK</td>\n",
       "      <td>Cash Deposit</td>\n",
       "      <td>0</td>\n",
       "      <td>Normal_Cash_Deposits</td>\n",
       "      <td>2022</td>\n",
       "      <td>10</td>\n",
       "      <td>5</td>\n",
       "      <td>10</td>\n",
       "      <td>GBP</td>\n",
       "      <td>GBP</td>\n",
       "    </tr>\n",
       "  </tbody>\n",
       "</table>\n",
       "</div>"
      ],
      "text/plain": [
       "       Time        Date  Sender_account  Receiver_account    Amount  \\\n",
       "0  10:35:19  2022-10-07      8724731955        2769355426   1459.15   \n",
       "1  10:35:20  2022-10-07      1491989064        8401255335   6019.64   \n",
       "2  10:35:20  2022-10-07       287305149        4404767002  14328.44   \n",
       "3  10:35:21  2022-10-07      5376652437        9600420220  11895.00   \n",
       "4  10:35:21  2022-10-07      9614186178        3803336972    115.25   \n",
       "\n",
       "  Sender_bank_location Receiver_bank_location  Payment_type  Is_laundering  \\\n",
       "0                   UK                     UK  Cash Deposit              0   \n",
       "1                   UK                    UAE  Cross-border              0   \n",
       "2                   UK                     UK        Cheque              0   \n",
       "3                   UK                     UK           ACH              0   \n",
       "4                   UK                     UK  Cash Deposit              0   \n",
       "\n",
       "        Laundering_type  year  month  weekday  hour Payment_currency_iso  \\\n",
       "0  Normal_Cash_Deposits  2022     10        5    10                  GBP   \n",
       "1        Normal_Fan_Out  2022     10        5    10                  GBP   \n",
       "2  Normal_Small_Fan_Out  2022     10        5    10                  GBP   \n",
       "3         Normal_Fan_In  2022     10        5    10                  GBP   \n",
       "4  Normal_Cash_Deposits  2022     10        5    10                  GBP   \n",
       "\n",
       "  Received_currency_iso  \n",
       "0                   GBP  \n",
       "1                   AED  \n",
       "2                   GBP  \n",
       "3                   GBP  \n",
       "4                   GBP  "
      ]
     },
     "execution_count": 2,
     "metadata": {},
     "output_type": "execute_result"
    }
   ],
   "source": [
    "df_baseline.head()"
   ]
  },
  {
   "cell_type": "code",
   "execution_count": 7,
   "id": "9718a16c",
   "metadata": {},
   "outputs": [
    {
     "name": "stdout",
     "output_type": "stream",
     "text": [
      "[LightGBM] [Info] Number of positive: 7898, number of negative: 23694\n",
      "[LightGBM] [Info] Auto-choosing row-wise multi-threading, the overhead of testing was 0,001109 seconds.\n",
      "You can set `force_row_wise=true` to remove the overhead.\n",
      "And if memory is not enough, you can set `force_col_wise=true`.\n",
      "[LightGBM] [Info] Total Bins 881\n",
      "[LightGBM] [Info] Number of data points in the train set: 31592, number of used features: 12\n",
      "[LightGBM] [Info] [binary:BoostFromScore]: pavg=0,250000 -> initscore=-1,098612\n",
      "[LightGBM] [Info] Start training from score -1,098612\n",
      "\n",
      "Метрики на undersampling-тесте:\n",
      "accuracy: 0.8579\n",
      "f1: 0.6584\n",
      "precision: 0.8250\n",
      "recall: 0.5478\n",
      "roc_auc: 0.8824\n",
      "\n",
      "Метрики на реальном тесте:\n",
      "accuracy: 0.9460\n",
      "f1: 0.0191\n",
      "precision: 0.0097\n",
      "recall: 0.5063\n",
      "roc_auc: 0.8402\n",
      "\n",
      "Матрица ошибок на реальном тесте:\n"
     ]
    },
    {
     "data": {
      "image/png": "[encoded data removed]",
      "text/plain": [
       "<Figure size 640x480 with 2 Axes>"
      ]
     },
     "metadata": {},
     "output_type": "display_data"
    },
    {
     "name": "stdout",
     "output_type": "stream",
     "text": [
      "\n",
      "ROC-кривая не реальном тесте:\n"
     ]
    },
    {
     "data": {
      "image/png": "[encoded data removed]",
      "text/plain": [
       "<Figure size 640x480 with 1 Axes>"
      ]
     },
     "metadata": {},
     "output_type": "display_data"
    }
   ],
   "source": [
    "from LightGBM_model import LightGBMBaseline\n",
    "from sklearn.metrics import ConfusionMatrixDisplay\n",
    "import matplotlib.pyplot as plt\n",
    "import pandas as pd\n",
    "\n",
    "# Инициализация и подготовка данных\n",
    "baseline = LightGBMBaseline()\n",
    "data = baseline.prepare_data(df_baseline)\n",
    "\n",
    "# Обучение\n",
    "baseline.train(data[\"X_train\"], data[\"y_train\"])\n",
    "\n",
    "# Оценка\n",
    "metrics_bal = baseline.evaluate(data[\"X_test_bal\"], data[\"y_test_bal\"])\n",
    "metrics_real = baseline.evaluate(data[\"X_test_real\"], data[\"y_test_real\"])\n",
    "\n",
    "# 5. Вывод метрик\n",
    "print(\"\\nМетрики на undersampling-тесте:\")\n",
    "for k, v in metrics_bal.items():\n",
    "    if isinstance(v, float):\n",
    "        print(f\"{k}: {v:.4f}\")\n",
    "\n",
    "print(\"\\nМетрики на реальном тесте:\")\n",
    "for k, v in metrics_real.items():\n",
    "    if isinstance(v, float):\n",
    "        print(f\"{k}: {v:.4f}\")\n",
    "\n",
    "# 6. Визуализация confusion matrix и ROC для реального теста\n",
    "print(\"\\nМатрица ошибок на реальном тесте:\")\n",
    "ConfusionMatrixDisplay(metrics_real[\"confusion_matrix\"]).plot()\n",
    "plt.title(\"Confusion Matrix — Реальный тест\")\n",
    "plt.grid(False)\n",
    "plt.show()\n",
    "\n",
    "print(\"\\nROC-кривая не реальном тесте:\")\n",
    "fpr, tpr, _ = metrics_real[\"roc_curve\"]\n",
    "plt.plot(fpr, tpr)\n",
    "plt.title(\"ROC Curve — Реальный тест\")\n",
    "plt.grid()\n",
    "plt.show()"
   ]
  },
  {
   "cell_type": "code",
   "execution_count": 4,
   "id": "ac623559",
   "metadata": {},
   "outputs": [
    {
     "name": "stderr",
     "output_type": "stream",
     "text": [
      "c:\\Users\\ostro\\Documents\\my_first_data_project\\.venv\\Lib\\site-packages\\xgboost\\training.py:183: UserWarning: [16:17:40] WARNING: C:\\actions-runner\\_work\\xgboost\\xgboost\\src\\learner.cc:738: \n",
      "Parameters: { \"use_label_encoder\" } are not used.\n",
      "\n",
      "  bst.update(dtrain, iteration=i, fobj=obj)\n"
     ]
    },
    {
     "name": "stdout",
     "output_type": "stream",
     "text": [
      "accuracy: 0.8432\n",
      "f1: 0.6261\n",
      "precision: 0.7751\n",
      "recall: 0.5251\n",
      "roc_auc: 0.8479\n"
     ]
    },
    {
     "data": {
      "image/png": "[encoded data removed]",
      "text/plain": [
       "<Figure size 640x480 with 1 Axes>"
      ]
     },
     "metadata": {},
     "output_type": "display_data"
    },
    {
     "data": {
      "image/png": "[encoded data removed]",
      "text/plain": [
       "<Figure size 640x480 with 2 Axes>"
      ]
     },
     "metadata": {},
     "output_type": "display_data"
    }
   ],
   "source": [
    "from XGBoost_model import XGBoostBaseline\n",
    "from sklearn.model_selection import train_test_split\n",
    "from sklearn.metrics import ConfusionMatrixDisplay\n",
    "import matplotlib.pyplot as plt\n",
    "import pandas as pd\n",
    "\n",
    "# Загружаем данные\n",
    "df = pd.read_csv(\"df_baseline.csv\")\n",
    "\n",
    "# Работа с моделью\n",
    "baseline = XGBoostBaseline()\n",
    "df_prep = baseline.preprocess(df)\n",
    "df_bal = baseline.undersample(df_prep)\n",
    "\n",
    "X = df_bal.drop(columns=[\"Is_laundering\"])\n",
    "y = df_bal[\"Is_laundering\"]\n",
    "\n",
    "X_train, X_test, y_train, y_test = train_test_split(X, y, stratify=y, random_state=42)\n",
    "\n",
    "baseline.train(X_train, y_train)\n",
    "metrics = baseline.evaluate(X_test, y_test)\n",
    "\n",
    "# Метрики\n",
    "for k, v in metrics.items():\n",
    "    if isinstance(v, float):\n",
    "        print(f\"{k}: {v:.4f}\")\n",
    "\n",
    "# ROC\n",
    "fpr, tpr, _ = metrics[\"roc_curve\"]\n",
    "plt.plot(fpr, tpr)\n",
    "plt.title(\"ROC Curve (XGBoost)\")\n",
    "plt.xlabel(\"FPR\")\n",
    "plt.ylabel(\"TPR\")\n",
    "plt.grid()\n",
    "plt.show()\n",
    "\n",
    "# Confusion Matrix\n",
    "ConfusionMatrixDisplay(metrics[\"confusion_matrix\"]).plot()\n",
    "plt.title(\"Confusion Matrix\")\n",
    "plt.grid(False)\n",
    "plt.show()\n",
    "\n",
    "# Сохраняем модель\n",
    "baseline.save_model()"
   ]
  }
 ],
 "metadata": {
  "kernelspec": {
   "display_name": ".venv",
   "language": "python",
   "name": "python3"
  },
  "language_info": {
   "codemirror_mode": {
    "name": "ipython",
    "version": 3
   },
   "file_extension": ".py",
   "mimetype": "text/x-python",
   "name": "python",
   "nbconvert_exporter": "python",
   "pygments_lexer": "ipython3",
   "version": "3.11.9"
  }
 },
 "nbformat": 4,
 "nbformat_minor": 5
}
